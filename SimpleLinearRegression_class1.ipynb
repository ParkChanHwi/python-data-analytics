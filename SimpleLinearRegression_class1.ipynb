{
  "nbformat": 4,
  "nbformat_minor": 0,
  "metadata": {
    "colab": {
      "provenance": [],
      "include_colab_link": true
    },
    "kernelspec": {
      "name": "python3",
      "display_name": "Python 3"
    },
    "language_info": {
      "name": "python"
    }
  },
  "cells": [
    {
      "cell_type": "markdown",
      "metadata": {
        "id": "view-in-github",
        "colab_type": "text"
      },
      "source": [
        "<a href=\"https://colab.research.google.com/github/ParkChanHwi/python-data-analytics/blob/main/SimpleLinearRegression_class1.ipynb\" target=\"_parent\"><img src=\"https://colab.research.google.com/assets/colab-badge.svg\" alt=\"Open In Colab\"/></a>"
      ]
    },
    {
      "cell_type": "markdown",
      "source": [
        "# ***Lab: Linear Regression***\n",
        "\n",
        "  Based on the *ISL with Python* Chapter 3.6"
      ],
      "metadata": {
        "id": "1w82cJMI8i3a"
      }
    },
    {
      "cell_type": "markdown",
      "source": [
        "**1. Install ISLP package**"
      ],
      "metadata": {
        "id": "VC6CQKFr9kzw"
      }
    },
    {
      "cell_type": "code",
      "source": [
        "%pip install ISLP"
      ],
      "metadata": {
        "collapsed": true,
        "id": "flfUiOwWyE5L",
        "colab": {
          "base_uri": "https://localhost:8080/"
        },
        "outputId": "7693ca5a-f279-42b5-99d4-226a940005e4"
      },
      "execution_count": 1,
      "outputs": [
        {
          "output_type": "stream",
          "name": "stdout",
          "text": [
            "Collecting ISLP\n",
            "  Downloading ISLP-0.4.0-py3-none-any.whl.metadata (7.0 kB)\n",
            "Requirement already satisfied: numpy>=1.7.1 in /usr/local/lib/python3.10/dist-packages (from ISLP) (1.26.4)\n",
            "Requirement already satisfied: scipy>=0.9 in /usr/local/lib/python3.10/dist-packages (from ISLP) (1.13.1)\n",
            "Requirement already satisfied: pandas>=0.20 in /usr/local/lib/python3.10/dist-packages (from ISLP) (2.1.4)\n",
            "Requirement already satisfied: lxml in /usr/local/lib/python3.10/dist-packages (from ISLP) (4.9.4)\n",
            "Requirement already satisfied: scikit-learn>=1.2 in /usr/local/lib/python3.10/dist-packages (from ISLP) (1.3.2)\n",
            "Requirement already satisfied: joblib in /usr/local/lib/python3.10/dist-packages (from ISLP) (1.4.2)\n",
            "Requirement already satisfied: statsmodels>=0.13 in /usr/local/lib/python3.10/dist-packages (from ISLP) (0.14.3)\n",
            "Collecting lifelines (from ISLP)\n",
            "  Downloading lifelines-0.29.0-py3-none-any.whl.metadata (3.2 kB)\n",
            "Collecting pygam (from ISLP)\n",
            "  Downloading pygam-0.9.1-py3-none-any.whl.metadata (7.1 kB)\n",
            "Requirement already satisfied: torch in /usr/local/lib/python3.10/dist-packages (from ISLP) (2.4.1+cu121)\n",
            "Collecting pytorch-lightning (from ISLP)\n",
            "  Downloading pytorch_lightning-2.4.0-py3-none-any.whl.metadata (21 kB)\n",
            "Collecting torchmetrics (from ISLP)\n",
            "  Downloading torchmetrics-1.4.2-py3-none-any.whl.metadata (19 kB)\n",
            "Requirement already satisfied: python-dateutil>=2.8.2 in /usr/local/lib/python3.10/dist-packages (from pandas>=0.20->ISLP) (2.8.2)\n",
            "Requirement already satisfied: pytz>=2020.1 in /usr/local/lib/python3.10/dist-packages (from pandas>=0.20->ISLP) (2024.2)\n",
            "Requirement already satisfied: tzdata>=2022.1 in /usr/local/lib/python3.10/dist-packages (from pandas>=0.20->ISLP) (2024.1)\n",
            "Requirement already satisfied: threadpoolctl>=2.0.0 in /usr/local/lib/python3.10/dist-packages (from scikit-learn>=1.2->ISLP) (3.5.0)\n",
            "Requirement already satisfied: patsy>=0.5.6 in /usr/local/lib/python3.10/dist-packages (from statsmodels>=0.13->ISLP) (0.5.6)\n",
            "Requirement already satisfied: packaging>=21.3 in /usr/local/lib/python3.10/dist-packages (from statsmodels>=0.13->ISLP) (24.1)\n",
            "Requirement already satisfied: matplotlib>=3.0 in /usr/local/lib/python3.10/dist-packages (from lifelines->ISLP) (3.7.1)\n",
            "Requirement already satisfied: autograd>=1.5 in /usr/local/lib/python3.10/dist-packages (from lifelines->ISLP) (1.7.0)\n",
            "Collecting autograd-gamma>=0.3 (from lifelines->ISLP)\n",
            "  Downloading autograd-gamma-0.5.0.tar.gz (4.0 kB)\n",
            "  Preparing metadata (setup.py) ... \u001b[?25l\u001b[?25hdone\n",
            "Collecting formulaic>=0.2.2 (from lifelines->ISLP)\n",
            "  Downloading formulaic-1.0.2-py3-none-any.whl.metadata (6.8 kB)\n",
            "Requirement already satisfied: progressbar2<5.0.0,>=4.2.0 in /usr/local/lib/python3.10/dist-packages (from pygam->ISLP) (4.5.0)\n",
            "Collecting scipy>=0.9 (from ISLP)\n",
            "  Downloading scipy-1.11.4-cp310-cp310-manylinux_2_17_x86_64.manylinux2014_x86_64.whl.metadata (60 kB)\n",
            "\u001b[2K     \u001b[90m━━━━━━━━━━━━━━━━━━━━━━━━━━━━━━━━━━━━━━━━\u001b[0m \u001b[32m60.4/60.4 kB\u001b[0m \u001b[31m1.7 MB/s\u001b[0m eta \u001b[36m0:00:00\u001b[0m\n",
            "\u001b[?25hRequirement already satisfied: tqdm>=4.57.0 in /usr/local/lib/python3.10/dist-packages (from pytorch-lightning->ISLP) (4.66.5)\n",
            "Requirement already satisfied: PyYAML>=5.4 in /usr/local/lib/python3.10/dist-packages (from pytorch-lightning->ISLP) (6.0.2)\n",
            "Requirement already satisfied: fsspec>=2022.5.0 in /usr/local/lib/python3.10/dist-packages (from fsspec[http]>=2022.5.0->pytorch-lightning->ISLP) (2024.6.1)\n",
            "Requirement already satisfied: typing-extensions>=4.4.0 in /usr/local/lib/python3.10/dist-packages (from pytorch-lightning->ISLP) (4.12.2)\n",
            "Collecting lightning-utilities>=0.10.0 (from pytorch-lightning->ISLP)\n",
            "  Downloading lightning_utilities-0.11.7-py3-none-any.whl.metadata (5.2 kB)\n",
            "Requirement already satisfied: filelock in /usr/local/lib/python3.10/dist-packages (from torch->ISLP) (3.16.1)\n",
            "Requirement already satisfied: sympy in /usr/local/lib/python3.10/dist-packages (from torch->ISLP) (1.13.2)\n",
            "Requirement already satisfied: networkx in /usr/local/lib/python3.10/dist-packages (from torch->ISLP) (3.3)\n",
            "Requirement already satisfied: jinja2 in /usr/local/lib/python3.10/dist-packages (from torch->ISLP) (3.1.4)\n",
            "Collecting interface-meta>=1.2.0 (from formulaic>=0.2.2->lifelines->ISLP)\n",
            "  Downloading interface_meta-1.3.0-py3-none-any.whl.metadata (6.7 kB)\n",
            "Requirement already satisfied: wrapt>=1.0 in /usr/local/lib/python3.10/dist-packages (from formulaic>=0.2.2->lifelines->ISLP) (1.16.0)\n",
            "Requirement already satisfied: aiohttp!=4.0.0a0,!=4.0.0a1 in /usr/local/lib/python3.10/dist-packages (from fsspec[http]>=2022.5.0->pytorch-lightning->ISLP) (3.10.5)\n",
            "Requirement already satisfied: setuptools in /usr/local/lib/python3.10/dist-packages (from lightning-utilities>=0.10.0->pytorch-lightning->ISLP) (71.0.4)\n",
            "Requirement already satisfied: contourpy>=1.0.1 in /usr/local/lib/python3.10/dist-packages (from matplotlib>=3.0->lifelines->ISLP) (1.3.0)\n",
            "Requirement already satisfied: cycler>=0.10 in /usr/local/lib/python3.10/dist-packages (from matplotlib>=3.0->lifelines->ISLP) (0.12.1)\n",
            "Requirement already satisfied: fonttools>=4.22.0 in /usr/local/lib/python3.10/dist-packages (from matplotlib>=3.0->lifelines->ISLP) (4.53.1)\n",
            "Requirement already satisfied: kiwisolver>=1.0.1 in /usr/local/lib/python3.10/dist-packages (from matplotlib>=3.0->lifelines->ISLP) (1.4.7)\n",
            "Requirement already satisfied: pillow>=6.2.0 in /usr/local/lib/python3.10/dist-packages (from matplotlib>=3.0->lifelines->ISLP) (10.4.0)\n",
            "Requirement already satisfied: pyparsing>=2.3.1 in /usr/local/lib/python3.10/dist-packages (from matplotlib>=3.0->lifelines->ISLP) (3.1.4)\n",
            "Requirement already satisfied: six in /usr/local/lib/python3.10/dist-packages (from patsy>=0.5.6->statsmodels>=0.13->ISLP) (1.16.0)\n",
            "Requirement already satisfied: python-utils>=3.8.1 in /usr/local/lib/python3.10/dist-packages (from progressbar2<5.0.0,>=4.2.0->pygam->ISLP) (3.8.2)\n",
            "Requirement already satisfied: MarkupSafe>=2.0 in /usr/local/lib/python3.10/dist-packages (from jinja2->torch->ISLP) (2.1.5)\n",
            "Requirement already satisfied: mpmath<1.4,>=1.1.0 in /usr/local/lib/python3.10/dist-packages (from sympy->torch->ISLP) (1.3.0)\n",
            "Requirement already satisfied: aiohappyeyeballs>=2.3.0 in /usr/local/lib/python3.10/dist-packages (from aiohttp!=4.0.0a0,!=4.0.0a1->fsspec[http]>=2022.5.0->pytorch-lightning->ISLP) (2.4.0)\n",
            "Requirement already satisfied: aiosignal>=1.1.2 in /usr/local/lib/python3.10/dist-packages (from aiohttp!=4.0.0a0,!=4.0.0a1->fsspec[http]>=2022.5.0->pytorch-lightning->ISLP) (1.3.1)\n",
            "Requirement already satisfied: attrs>=17.3.0 in /usr/local/lib/python3.10/dist-packages (from aiohttp!=4.0.0a0,!=4.0.0a1->fsspec[http]>=2022.5.0->pytorch-lightning->ISLP) (24.2.0)\n",
            "Requirement already satisfied: frozenlist>=1.1.1 in /usr/local/lib/python3.10/dist-packages (from aiohttp!=4.0.0a0,!=4.0.0a1->fsspec[http]>=2022.5.0->pytorch-lightning->ISLP) (1.4.1)\n",
            "Requirement already satisfied: multidict<7.0,>=4.5 in /usr/local/lib/python3.10/dist-packages (from aiohttp!=4.0.0a0,!=4.0.0a1->fsspec[http]>=2022.5.0->pytorch-lightning->ISLP) (6.1.0)\n",
            "Requirement already satisfied: yarl<2.0,>=1.0 in /usr/local/lib/python3.10/dist-packages (from aiohttp!=4.0.0a0,!=4.0.0a1->fsspec[http]>=2022.5.0->pytorch-lightning->ISLP) (1.11.1)\n",
            "Requirement already satisfied: async-timeout<5.0,>=4.0 in /usr/local/lib/python3.10/dist-packages (from aiohttp!=4.0.0a0,!=4.0.0a1->fsspec[http]>=2022.5.0->pytorch-lightning->ISLP) (4.0.3)\n",
            "Requirement already satisfied: idna>=2.0 in /usr/local/lib/python3.10/dist-packages (from yarl<2.0,>=1.0->aiohttp!=4.0.0a0,!=4.0.0a1->fsspec[http]>=2022.5.0->pytorch-lightning->ISLP) (3.10)\n",
            "Downloading ISLP-0.4.0-py3-none-any.whl (3.6 MB)\n",
            "\u001b[2K   \u001b[90m━━━━━━━━━━━━━━━━━━━━━━━━━━━━━━━━━━━━━━━━\u001b[0m \u001b[32m3.6/3.6 MB\u001b[0m \u001b[31m36.3 MB/s\u001b[0m eta \u001b[36m0:00:00\u001b[0m\n",
            "\u001b[?25hDownloading lifelines-0.29.0-py3-none-any.whl (349 kB)\n",
            "\u001b[2K   \u001b[90m━━━━━━━━━━━━━━━━━━━━━━━━━━━━━━━━━━━━━━━━\u001b[0m \u001b[32m349.3/349.3 kB\u001b[0m \u001b[31m22.4 MB/s\u001b[0m eta \u001b[36m0:00:00\u001b[0m\n",
            "\u001b[?25hDownloading pygam-0.9.1-py3-none-any.whl (522 kB)\n",
            "\u001b[2K   \u001b[90m━━━━━━━━━━━━━━━━━━━━━━━━━━━━━━━━━━━━━━━━\u001b[0m \u001b[32m522.0/522.0 kB\u001b[0m \u001b[31m24.1 MB/s\u001b[0m eta \u001b[36m0:00:00\u001b[0m\n",
            "\u001b[?25hDownloading scipy-1.11.4-cp310-cp310-manylinux_2_17_x86_64.manylinux2014_x86_64.whl (36.4 MB)\n",
            "\u001b[2K   \u001b[90m━━━━━━━━━━━━━━━━━━━━━━━━━━━━━━━━━━━━━━━━\u001b[0m \u001b[32m36.4/36.4 MB\u001b[0m \u001b[31m18.9 MB/s\u001b[0m eta \u001b[36m0:00:00\u001b[0m\n",
            "\u001b[?25hDownloading pytorch_lightning-2.4.0-py3-none-any.whl (815 kB)\n",
            "\u001b[2K   \u001b[90m━━━━━━━━━━━━━━━━━━━━━━━━━━━━━━━━━━━━━━━━\u001b[0m \u001b[32m815.2/815.2 kB\u001b[0m \u001b[31m31.6 MB/s\u001b[0m eta \u001b[36m0:00:00\u001b[0m\n",
            "\u001b[?25hDownloading torchmetrics-1.4.2-py3-none-any.whl (869 kB)\n",
            "\u001b[2K   \u001b[90m━━━━━━━━━━━━━━━━━━━━━━━━━━━━━━━━━━━━━━━━\u001b[0m \u001b[32m869.2/869.2 kB\u001b[0m \u001b[31m34.3 MB/s\u001b[0m eta \u001b[36m0:00:00\u001b[0m\n",
            "\u001b[?25hDownloading formulaic-1.0.2-py3-none-any.whl (94 kB)\n",
            "\u001b[2K   \u001b[90m━━━━━━━━━━━━━━━━━━━━━━━━━━━━━━━━━━━━━━━━\u001b[0m \u001b[32m94.5/94.5 kB\u001b[0m \u001b[31m6.1 MB/s\u001b[0m eta \u001b[36m0:00:00\u001b[0m\n",
            "\u001b[?25hDownloading lightning_utilities-0.11.7-py3-none-any.whl (26 kB)\n",
            "Downloading interface_meta-1.3.0-py3-none-any.whl (14 kB)\n",
            "Building wheels for collected packages: autograd-gamma\n",
            "  Building wheel for autograd-gamma (setup.py) ... \u001b[?25l\u001b[?25hdone\n",
            "  Created wheel for autograd-gamma: filename=autograd_gamma-0.5.0-py3-none-any.whl size=4031 sha256=b08254abc176c18df0b933eb45b62937ff18a8c653ac9d12748f91b02c95cc94\n",
            "  Stored in directory: /root/.cache/pip/wheels/25/cc/e0/ef2969164144c899fedb22b338f6703e2b9cf46eeebf254991\n",
            "Successfully built autograd-gamma\n",
            "Installing collected packages: scipy, lightning-utilities, interface-meta, autograd-gamma, torchmetrics, pygam, formulaic, lifelines, pytorch-lightning, ISLP\n",
            "  Attempting uninstall: scipy\n",
            "    Found existing installation: scipy 1.13.1\n",
            "    Uninstalling scipy-1.13.1:\n",
            "      Successfully uninstalled scipy-1.13.1\n",
            "Successfully installed ISLP-0.4.0 autograd-gamma-0.5.0 formulaic-1.0.2 interface-meta-1.3.0 lifelines-0.29.0 lightning-utilities-0.11.7 pygam-0.9.1 pytorch-lightning-2.4.0 scipy-1.11.4 torchmetrics-1.4.2\n"
          ]
        }
      ]
    },
    {
      "cell_type": "markdown",
      "source": [
        "**2. Importing packages**\n",
        "\n",
        "In [1] - In [4]을 참고하여 필요한 패키지를 모두 불러 올 것"
      ],
      "metadata": {
        "id": "G0D3bZSi9huI"
      }
    },
    {
      "cell_type": "code",
      "execution_count": 4,
      "metadata": {
        "id": "-Nk_dEFTvPxm"
      },
      "outputs": [],
      "source": [
        "import numpy as np\n",
        "import pandas as pd\n",
        "from matplotlib import pyplot as plt\n",
        "import statsmodels.api as sm\n",
        "from statsmodels.stats.outliers_influence import variance_inflation_factor as VIF\n",
        "from statsmodels.stats.anova import anova_lm"
      ]
    },
    {
      "cell_type": "code",
      "source": [
        "from ISLP import load_data\n",
        "from ISLP.models import (ModelSpec as MS,\n",
        "                         summarize,\n",
        "                         poly)"
      ],
      "metadata": {
        "id": "N7bMeoyetCkf"
      },
      "execution_count": 5,
      "outputs": []
    },
    {
      "cell_type": "markdown",
      "source": [
        "# ***Simple Linear Regression***\n",
        "\n",
        "Our response will be *medv* (median house value) and *lstat* (percent of households with low socioeconomic status) will be the single predictor."
      ],
      "metadata": {
        "id": "HRgBrm5h954m"
      }
    },
    {
      "cell_type": "markdown",
      "source": [
        "**1. Read the data \"Boston\"**\n",
        "\n",
        "In [8]를 참고하여 Boston 데이터를 불러올 것"
      ],
      "metadata": {
        "id": "FA51T6eV_sQq"
      }
    },
    {
      "cell_type": "code",
      "source": [
        "Boston = load_data('Boston')\n",
        "Boston.columns"
      ],
      "metadata": {
        "colab": {
          "base_uri": "https://localhost:8080/"
        },
        "collapsed": true,
        "id": "iIjEAXee-Lta",
        "outputId": "fbf65caa-c636-4991-ca39-8ee63077b893"
      },
      "execution_count": 6,
      "outputs": [
        {
          "output_type": "execute_result",
          "data": {
            "text/plain": [
              "Index(['crim', 'zn', 'indus', 'chas', 'nox', 'rm', 'age', 'dis', 'rad', 'tax',\n",
              "       'ptratio', 'lstat', 'medv'],\n",
              "      dtype='object')"
            ]
          },
          "metadata": {},
          "execution_count": 6
        }
      ]
    },
    {
      "cell_type": "markdown",
      "source": [
        "**2. Extract the variables and conduct linear regression using `sm.OSL()`**\n",
        "\n",
        "\n",
        "In [9] - In [10]을 참고하여 `sm.OLS` 으로 선형회귀분석을 할 것. 단, 입력변수와 출력변수는 각각 lstat와 medv."
      ],
      "metadata": {
        "id": "TOD7UeTQ_jSk"
      }
    },
    {
      "cell_type": "code",
      "source": [
        "X = pd.DataFrame({'intercept': np.ones(Boston.shape[0]),\n",
        "                  'lstat': Boston['lstat']})\n",
        "y = Boston['medv']\n",
        "\n",
        "model = sm.OLS(y,X)\n",
        "results = model.fit()\n",
        "results.summary()\n"
      ],
      "metadata": {
        "collapsed": true,
        "id": "A9Z_W5qL-Om9",
        "colab": {
          "base_uri": "https://localhost:8080/",
          "height": 452
        },
        "outputId": "a6c3e155-08e3-44b5-8b12-540dd826f909"
      },
      "execution_count": 9,
      "outputs": [
        {
          "output_type": "execute_result",
          "data": {
            "text/plain": [
              "<class 'statsmodels.iolib.summary.Summary'>\n",
              "\"\"\"\n",
              "                            OLS Regression Results                            \n",
              "==============================================================================\n",
              "Dep. Variable:                   medv   R-squared:                       0.544\n",
              "Model:                            OLS   Adj. R-squared:                  0.543\n",
              "Method:                 Least Squares   F-statistic:                     601.6\n",
              "Date:                Mon, 23 Sep 2024   Prob (F-statistic):           5.08e-88\n",
              "Time:                        07:13:01   Log-Likelihood:                -1641.5\n",
              "No. Observations:                 506   AIC:                             3287.\n",
              "Df Residuals:                     504   BIC:                             3295.\n",
              "Df Model:                           1                                         \n",
              "Covariance Type:            nonrobust                                         \n",
              "==============================================================================\n",
              "                 coef    std err          t      P>|t|      [0.025      0.975]\n",
              "------------------------------------------------------------------------------\n",
              "intercept     34.5538      0.563     61.415      0.000      33.448      35.659\n",
              "lstat         -0.9500      0.039    -24.528      0.000      -1.026      -0.874\n",
              "==============================================================================\n",
              "Omnibus:                      137.043   Durbin-Watson:                   0.892\n",
              "Prob(Omnibus):                  0.000   Jarque-Bera (JB):              291.373\n",
              "Skew:                           1.453   Prob(JB):                     5.36e-64\n",
              "Kurtosis:                       5.319   Cond. No.                         29.7\n",
              "==============================================================================\n",
              "\n",
              "Notes:\n",
              "[1] Standard Errors assume that the covariance matrix of the errors is correctly specified.\n",
              "\"\"\""
            ],
            "text/html": [
              "<table class=\"simpletable\">\n",
              "<caption>OLS Regression Results</caption>\n",
              "<tr>\n",
              "  <th>Dep. Variable:</th>          <td>medv</td>       <th>  R-squared:         </th> <td>   0.544</td>\n",
              "</tr>\n",
              "<tr>\n",
              "  <th>Model:</th>                   <td>OLS</td>       <th>  Adj. R-squared:    </th> <td>   0.543</td>\n",
              "</tr>\n",
              "<tr>\n",
              "  <th>Method:</th>             <td>Least Squares</td>  <th>  F-statistic:       </th> <td>   601.6</td>\n",
              "</tr>\n",
              "<tr>\n",
              "  <th>Date:</th>             <td>Mon, 23 Sep 2024</td> <th>  Prob (F-statistic):</th> <td>5.08e-88</td>\n",
              "</tr>\n",
              "<tr>\n",
              "  <th>Time:</th>                 <td>07:13:01</td>     <th>  Log-Likelihood:    </th> <td> -1641.5</td>\n",
              "</tr>\n",
              "<tr>\n",
              "  <th>No. Observations:</th>      <td>   506</td>      <th>  AIC:               </th> <td>   3287.</td>\n",
              "</tr>\n",
              "<tr>\n",
              "  <th>Df Residuals:</th>          <td>   504</td>      <th>  BIC:               </th> <td>   3295.</td>\n",
              "</tr>\n",
              "<tr>\n",
              "  <th>Df Model:</th>              <td>     1</td>      <th>                     </th>     <td> </td>   \n",
              "</tr>\n",
              "<tr>\n",
              "  <th>Covariance Type:</th>      <td>nonrobust</td>    <th>                     </th>     <td> </td>   \n",
              "</tr>\n",
              "</table>\n",
              "<table class=\"simpletable\">\n",
              "<tr>\n",
              "      <td></td>         <th>coef</th>     <th>std err</th>      <th>t</th>      <th>P>|t|</th>  <th>[0.025</th>    <th>0.975]</th>  \n",
              "</tr>\n",
              "<tr>\n",
              "  <th>intercept</th> <td>   34.5538</td> <td>    0.563</td> <td>   61.415</td> <td> 0.000</td> <td>   33.448</td> <td>   35.659</td>\n",
              "</tr>\n",
              "<tr>\n",
              "  <th>lstat</th>     <td>   -0.9500</td> <td>    0.039</td> <td>  -24.528</td> <td> 0.000</td> <td>   -1.026</td> <td>   -0.874</td>\n",
              "</tr>\n",
              "</table>\n",
              "<table class=\"simpletable\">\n",
              "<tr>\n",
              "  <th>Omnibus:</th>       <td>137.043</td> <th>  Durbin-Watson:     </th> <td>   0.892</td>\n",
              "</tr>\n",
              "<tr>\n",
              "  <th>Prob(Omnibus):</th> <td> 0.000</td>  <th>  Jarque-Bera (JB):  </th> <td> 291.373</td>\n",
              "</tr>\n",
              "<tr>\n",
              "  <th>Skew:</th>          <td> 1.453</td>  <th>  Prob(JB):          </th> <td>5.36e-64</td>\n",
              "</tr>\n",
              "<tr>\n",
              "  <th>Kurtosis:</th>      <td> 5.319</td>  <th>  Cond. No.          </th> <td>    29.7</td>\n",
              "</tr>\n",
              "</table><br/><br/>Notes:<br/>[1] Standard Errors assume that the covariance matrix of the errors is correctly specified."
            ],
            "text/latex": "\\begin{center}\n\\begin{tabular}{lclc}\n\\toprule\n\\textbf{Dep. Variable:}    &       medv       & \\textbf{  R-squared:         } &     0.544   \\\\\n\\textbf{Model:}            &       OLS        & \\textbf{  Adj. R-squared:    } &     0.543   \\\\\n\\textbf{Method:}           &  Least Squares   & \\textbf{  F-statistic:       } &     601.6   \\\\\n\\textbf{Date:}             & Mon, 23 Sep 2024 & \\textbf{  Prob (F-statistic):} &  5.08e-88   \\\\\n\\textbf{Time:}             &     07:13:01     & \\textbf{  Log-Likelihood:    } &   -1641.5   \\\\\n\\textbf{No. Observations:} &         506      & \\textbf{  AIC:               } &     3287.   \\\\\n\\textbf{Df Residuals:}     &         504      & \\textbf{  BIC:               } &     3295.   \\\\\n\\textbf{Df Model:}         &           1      & \\textbf{                     } &             \\\\\n\\textbf{Covariance Type:}  &    nonrobust     & \\textbf{                     } &             \\\\\n\\bottomrule\n\\end{tabular}\n\\begin{tabular}{lcccccc}\n                   & \\textbf{coef} & \\textbf{std err} & \\textbf{t} & \\textbf{P$> |$t$|$} & \\textbf{[0.025} & \\textbf{0.975]}  \\\\\n\\midrule\n\\textbf{intercept} &      34.5538  &        0.563     &    61.415  &         0.000        &       33.448    &       35.659     \\\\\n\\textbf{lstat}     &      -0.9500  &        0.039     &   -24.528  &         0.000        &       -1.026    &       -0.874     \\\\\n\\bottomrule\n\\end{tabular}\n\\begin{tabular}{lclc}\n\\textbf{Omnibus:}       & 137.043 & \\textbf{  Durbin-Watson:     } &    0.892  \\\\\n\\textbf{Prob(Omnibus):} &   0.000 & \\textbf{  Jarque-Bera (JB):  } &  291.373  \\\\\n\\textbf{Skew:}          &   1.453 & \\textbf{  Prob(JB):          } & 5.36e-64  \\\\\n\\textbf{Kurtosis:}      &   5.319 & \\textbf{  Cond. No.          } &     29.7  \\\\\n\\bottomrule\n\\end{tabular}\n%\\caption{OLS Regression Results}\n\\end{center}\n\nNotes: \\newline\n [1] Standard Errors assume that the covariance matrix of the errors is correctly specified."
          },
          "metadata": {},
          "execution_count": 9
        }
      ]
    },
    {
      "cell_type": "markdown",
      "source": [
        "**3. Summarize results**\n",
        "\n",
        "In [11]을 참고하여 결과(b0과 b1 값)를 확인할 것"
      ],
      "metadata": {
        "id": "JWHK4N8jVAiz"
      }
    },
    {
      "cell_type": "code",
      "source": [
        "summarize(results)"
      ],
      "metadata": {
        "id": "WHh30Pq8VENz",
        "colab": {
          "base_uri": "https://localhost:8080/",
          "height": 112
        },
        "outputId": "7bd7fd63-2392-4a28-d5fa-4b80a36d60f8"
      },
      "execution_count": 10,
      "outputs": [
        {
          "output_type": "execute_result",
          "data": {
            "text/plain": [
              "              coef  std err       t  P>|t|\n",
              "intercept  34.5538    0.563  61.415    0.0\n",
              "lstat      -0.9500    0.039 -24.528    0.0"
            ],
            "text/html": [
              "\n",
              "  <div id=\"df-52d9354d-8d5b-48b0-bf03-55d4178b1e14\" class=\"colab-df-container\">\n",
              "    <div>\n",
              "<style scoped>\n",
              "    .dataframe tbody tr th:only-of-type {\n",
              "        vertical-align: middle;\n",
              "    }\n",
              "\n",
              "    .dataframe tbody tr th {\n",
              "        vertical-align: top;\n",
              "    }\n",
              "\n",
              "    .dataframe thead th {\n",
              "        text-align: right;\n",
              "    }\n",
              "</style>\n",
              "<table border=\"1\" class=\"dataframe\">\n",
              "  <thead>\n",
              "    <tr style=\"text-align: right;\">\n",
              "      <th></th>\n",
              "      <th>coef</th>\n",
              "      <th>std err</th>\n",
              "      <th>t</th>\n",
              "      <th>P&gt;|t|</th>\n",
              "    </tr>\n",
              "  </thead>\n",
              "  <tbody>\n",
              "    <tr>\n",
              "      <th>intercept</th>\n",
              "      <td>34.5538</td>\n",
              "      <td>0.563</td>\n",
              "      <td>61.415</td>\n",
              "      <td>0.0</td>\n",
              "    </tr>\n",
              "    <tr>\n",
              "      <th>lstat</th>\n",
              "      <td>-0.9500</td>\n",
              "      <td>0.039</td>\n",
              "      <td>-24.528</td>\n",
              "      <td>0.0</td>\n",
              "    </tr>\n",
              "  </tbody>\n",
              "</table>\n",
              "</div>\n",
              "    <div class=\"colab-df-buttons\">\n",
              "\n",
              "  <div class=\"colab-df-container\">\n",
              "    <button class=\"colab-df-convert\" onclick=\"convertToInteractive('df-52d9354d-8d5b-48b0-bf03-55d4178b1e14')\"\n",
              "            title=\"Convert this dataframe to an interactive table.\"\n",
              "            style=\"display:none;\">\n",
              "\n",
              "  <svg xmlns=\"http://www.w3.org/2000/svg\" height=\"24px\" viewBox=\"0 -960 960 960\">\n",
              "    <path d=\"M120-120v-720h720v720H120Zm60-500h600v-160H180v160Zm220 220h160v-160H400v160Zm0 220h160v-160H400v160ZM180-400h160v-160H180v160Zm440 0h160v-160H620v160ZM180-180h160v-160H180v160Zm440 0h160v-160H620v160Z\"/>\n",
              "  </svg>\n",
              "    </button>\n",
              "\n",
              "  <style>\n",
              "    .colab-df-container {\n",
              "      display:flex;\n",
              "      gap: 12px;\n",
              "    }\n",
              "\n",
              "    .colab-df-convert {\n",
              "      background-color: #E8F0FE;\n",
              "      border: none;\n",
              "      border-radius: 50%;\n",
              "      cursor: pointer;\n",
              "      display: none;\n",
              "      fill: #1967D2;\n",
              "      height: 32px;\n",
              "      padding: 0 0 0 0;\n",
              "      width: 32px;\n",
              "    }\n",
              "\n",
              "    .colab-df-convert:hover {\n",
              "      background-color: #E2EBFA;\n",
              "      box-shadow: 0px 1px 2px rgba(60, 64, 67, 0.3), 0px 1px 3px 1px rgba(60, 64, 67, 0.15);\n",
              "      fill: #174EA6;\n",
              "    }\n",
              "\n",
              "    .colab-df-buttons div {\n",
              "      margin-bottom: 4px;\n",
              "    }\n",
              "\n",
              "    [theme=dark] .colab-df-convert {\n",
              "      background-color: #3B4455;\n",
              "      fill: #D2E3FC;\n",
              "    }\n",
              "\n",
              "    [theme=dark] .colab-df-convert:hover {\n",
              "      background-color: #434B5C;\n",
              "      box-shadow: 0px 1px 3px 1px rgba(0, 0, 0, 0.15);\n",
              "      filter: drop-shadow(0px 1px 2px rgba(0, 0, 0, 0.3));\n",
              "      fill: #FFFFFF;\n",
              "    }\n",
              "  </style>\n",
              "\n",
              "    <script>\n",
              "      const buttonEl =\n",
              "        document.querySelector('#df-52d9354d-8d5b-48b0-bf03-55d4178b1e14 button.colab-df-convert');\n",
              "      buttonEl.style.display =\n",
              "        google.colab.kernel.accessAllowed ? 'block' : 'none';\n",
              "\n",
              "      async function convertToInteractive(key) {\n",
              "        const element = document.querySelector('#df-52d9354d-8d5b-48b0-bf03-55d4178b1e14');\n",
              "        const dataTable =\n",
              "          await google.colab.kernel.invokeFunction('convertToInteractive',\n",
              "                                                    [key], {});\n",
              "        if (!dataTable) return;\n",
              "\n",
              "        const docLinkHtml = 'Like what you see? Visit the ' +\n",
              "          '<a target=\"_blank\" href=https://colab.research.google.com/notebooks/data_table.ipynb>data table notebook</a>'\n",
              "          + ' to learn more about interactive tables.';\n",
              "        element.innerHTML = '';\n",
              "        dataTable['output_type'] = 'display_data';\n",
              "        await google.colab.output.renderOutput(dataTable, element);\n",
              "        const docLink = document.createElement('div');\n",
              "        docLink.innerHTML = docLinkHtml;\n",
              "        element.appendChild(docLink);\n",
              "      }\n",
              "    </script>\n",
              "  </div>\n",
              "\n",
              "\n",
              "<div id=\"df-19d48733-1f6d-4f4e-80f8-f9bbb23c104d\">\n",
              "  <button class=\"colab-df-quickchart\" onclick=\"quickchart('df-19d48733-1f6d-4f4e-80f8-f9bbb23c104d')\"\n",
              "            title=\"Suggest charts\"\n",
              "            style=\"display:none;\">\n",
              "\n",
              "<svg xmlns=\"http://www.w3.org/2000/svg\" height=\"24px\"viewBox=\"0 0 24 24\"\n",
              "     width=\"24px\">\n",
              "    <g>\n",
              "        <path d=\"M19 3H5c-1.1 0-2 .9-2 2v14c0 1.1.9 2 2 2h14c1.1 0 2-.9 2-2V5c0-1.1-.9-2-2-2zM9 17H7v-7h2v7zm4 0h-2V7h2v10zm4 0h-2v-4h2v4z\"/>\n",
              "    </g>\n",
              "</svg>\n",
              "  </button>\n",
              "\n",
              "<style>\n",
              "  .colab-df-quickchart {\n",
              "      --bg-color: #E8F0FE;\n",
              "      --fill-color: #1967D2;\n",
              "      --hover-bg-color: #E2EBFA;\n",
              "      --hover-fill-color: #174EA6;\n",
              "      --disabled-fill-color: #AAA;\n",
              "      --disabled-bg-color: #DDD;\n",
              "  }\n",
              "\n",
              "  [theme=dark] .colab-df-quickchart {\n",
              "      --bg-color: #3B4455;\n",
              "      --fill-color: #D2E3FC;\n",
              "      --hover-bg-color: #434B5C;\n",
              "      --hover-fill-color: #FFFFFF;\n",
              "      --disabled-bg-color: #3B4455;\n",
              "      --disabled-fill-color: #666;\n",
              "  }\n",
              "\n",
              "  .colab-df-quickchart {\n",
              "    background-color: var(--bg-color);\n",
              "    border: none;\n",
              "    border-radius: 50%;\n",
              "    cursor: pointer;\n",
              "    display: none;\n",
              "    fill: var(--fill-color);\n",
              "    height: 32px;\n",
              "    padding: 0;\n",
              "    width: 32px;\n",
              "  }\n",
              "\n",
              "  .colab-df-quickchart:hover {\n",
              "    background-color: var(--hover-bg-color);\n",
              "    box-shadow: 0 1px 2px rgba(60, 64, 67, 0.3), 0 1px 3px 1px rgba(60, 64, 67, 0.15);\n",
              "    fill: var(--button-hover-fill-color);\n",
              "  }\n",
              "\n",
              "  .colab-df-quickchart-complete:disabled,\n",
              "  .colab-df-quickchart-complete:disabled:hover {\n",
              "    background-color: var(--disabled-bg-color);\n",
              "    fill: var(--disabled-fill-color);\n",
              "    box-shadow: none;\n",
              "  }\n",
              "\n",
              "  .colab-df-spinner {\n",
              "    border: 2px solid var(--fill-color);\n",
              "    border-color: transparent;\n",
              "    border-bottom-color: var(--fill-color);\n",
              "    animation:\n",
              "      spin 1s steps(1) infinite;\n",
              "  }\n",
              "\n",
              "  @keyframes spin {\n",
              "    0% {\n",
              "      border-color: transparent;\n",
              "      border-bottom-color: var(--fill-color);\n",
              "      border-left-color: var(--fill-color);\n",
              "    }\n",
              "    20% {\n",
              "      border-color: transparent;\n",
              "      border-left-color: var(--fill-color);\n",
              "      border-top-color: var(--fill-color);\n",
              "    }\n",
              "    30% {\n",
              "      border-color: transparent;\n",
              "      border-left-color: var(--fill-color);\n",
              "      border-top-color: var(--fill-color);\n",
              "      border-right-color: var(--fill-color);\n",
              "    }\n",
              "    40% {\n",
              "      border-color: transparent;\n",
              "      border-right-color: var(--fill-color);\n",
              "      border-top-color: var(--fill-color);\n",
              "    }\n",
              "    60% {\n",
              "      border-color: transparent;\n",
              "      border-right-color: var(--fill-color);\n",
              "    }\n",
              "    80% {\n",
              "      border-color: transparent;\n",
              "      border-right-color: var(--fill-color);\n",
              "      border-bottom-color: var(--fill-color);\n",
              "    }\n",
              "    90% {\n",
              "      border-color: transparent;\n",
              "      border-bottom-color: var(--fill-color);\n",
              "    }\n",
              "  }\n",
              "</style>\n",
              "\n",
              "  <script>\n",
              "    async function quickchart(key) {\n",
              "      const quickchartButtonEl =\n",
              "        document.querySelector('#' + key + ' button');\n",
              "      quickchartButtonEl.disabled = true;  // To prevent multiple clicks.\n",
              "      quickchartButtonEl.classList.add('colab-df-spinner');\n",
              "      try {\n",
              "        const charts = await google.colab.kernel.invokeFunction(\n",
              "            'suggestCharts', [key], {});\n",
              "      } catch (error) {\n",
              "        console.error('Error during call to suggestCharts:', error);\n",
              "      }\n",
              "      quickchartButtonEl.classList.remove('colab-df-spinner');\n",
              "      quickchartButtonEl.classList.add('colab-df-quickchart-complete');\n",
              "    }\n",
              "    (() => {\n",
              "      let quickchartButtonEl =\n",
              "        document.querySelector('#df-19d48733-1f6d-4f4e-80f8-f9bbb23c104d button');\n",
              "      quickchartButtonEl.style.display =\n",
              "        google.colab.kernel.accessAllowed ? 'block' : 'none';\n",
              "    })();\n",
              "  </script>\n",
              "</div>\n",
              "\n",
              "    </div>\n",
              "  </div>\n"
            ],
            "application/vnd.google.colaboratory.intrinsic+json": {
              "type": "dataframe",
              "summary": "{\n  \"name\": \"summarize(results)\",\n  \"rows\": 2,\n  \"fields\": [\n    {\n      \"column\": \"coef\",\n      \"properties\": {\n        \"dtype\": \"number\",\n        \"std\": 25.104977737890948,\n        \"min\": -0.95,\n        \"max\": 34.5538,\n        \"num_unique_values\": 2,\n        \"samples\": [\n          -0.95,\n          34.5538\n        ],\n        \"semantic_type\": \"\",\n        \"description\": \"\"\n      }\n    },\n    {\n      \"column\": \"std err\",\n      \"properties\": {\n        \"dtype\": \"number\",\n        \"std\": 0.37052395334175087,\n        \"min\": 0.039,\n        \"max\": 0.563,\n        \"num_unique_values\": 2,\n        \"samples\": [\n          0.039,\n          0.563\n        ],\n        \"semantic_type\": \"\",\n        \"description\": \"\"\n      }\n    },\n    {\n      \"column\": \"t\",\n      \"properties\": {\n        \"dtype\": \"number\",\n        \"std\": 60.77087809551545,\n        \"min\": -24.528,\n        \"max\": 61.415,\n        \"num_unique_values\": 2,\n        \"samples\": [\n          -24.528,\n          61.415\n        ],\n        \"semantic_type\": \"\",\n        \"description\": \"\"\n      }\n    },\n    {\n      \"column\": \"P>|t|\",\n      \"properties\": {\n        \"dtype\": \"number\",\n        \"std\": 0.0,\n        \"min\": 0.0,\n        \"max\": 0.0,\n        \"num_unique_values\": 1,\n        \"samples\": [\n          0.0\n        ],\n        \"semantic_type\": \"\",\n        \"description\": \"\"\n      }\n    }\n  ]\n}"
            }
          },
          "metadata": {},
          "execution_count": 10
        }
      ]
    },
    {
      "cell_type": "markdown",
      "source": [
        "# **Predictions**\n",
        "\n",
        "x= 5, 10, 15 일 때의 y(예측값)을 구할 것."
      ],
      "metadata": {
        "id": "qY4Q3gadYRhh"
      }
    },
    {
      "cell_type": "code",
      "source": [
        "results.params.intercept + results.params.lstat*np.array([5,10,15])"
      ],
      "metadata": {
        "id": "XRz1yiX_Y9AY",
        "colab": {
          "base_uri": "https://localhost:8080/"
        },
        "outputId": "010a37c9-4d7e-4beb-9085-cc117baf6a12"
      },
      "execution_count": 11,
      "outputs": [
        {
          "output_type": "execute_result",
          "data": {
            "text/plain": [
              "array([29.80359411, 25.05334734, 20.30310057])"
            ]
          },
          "metadata": {},
          "execution_count": 11
        }
      ]
    },
    {
      "cell_type": "markdown",
      "source": [
        "# **Simple Linear Regression (manually)**\n",
        "\n",
        "define b0 and b1 using the fomular from the last lecture\n",
        "\n",
        "기울기와 절편 (b0 and b1)을 구하는 공식을 직접 작성해 볼것."
      ],
      "metadata": {
        "id": "eRkDUXc3_fVV"
      }
    },
    {
      "cell_type": "markdown",
      "source": [
        "![Screenshot 2024-09-23 162050.png](data:image/png;base64,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)"
      ],
      "metadata": {
        "id": "7ojNT463wQxB"
      }
    },
    {
      "cell_type": "code",
      "source": [
        "\n",
        "b1= sum((X['lstat']-X['lstat'].mean())*(y-y.mean()))/sum((X['lstat']-X['lstat'].mean())**2)\n",
        "b0= y.mean()-b1*X['lstat'].mean()\n",
        "print('b0:',b0)\n",
        "print('b1:',b1)"
      ],
      "metadata": {
        "id": "0levZxw8_ick",
        "colab": {
          "base_uri": "https://localhost:8080/"
        },
        "outputId": "164bb96a-ff51-49f1-b569-3ff2c0686a75"
      },
      "execution_count": 12,
      "outputs": [
        {
          "output_type": "stream",
          "name": "stdout",
          "text": [
            "b0: 34.5538408793831\n",
            "b1: -0.9500493537579907\n"
          ]
        }
      ]
    },
    {
      "cell_type": "markdown",
      "source": [
        "Compare results from `summarize(results)`\n",
        "\n",
        "앞서 `sm.OLS` 로 구한 값과 계수를 비교해 보세요."
      ],
      "metadata": {
        "id": "ESvtVkSeJs-h"
      }
    },
    {
      "cell_type": "code",
      "source": [
        "print('b0:',b0)\n",
        "print('b1:',b1)"
      ],
      "metadata": {
        "id": "gWAk7Lg9ANlo",
        "colab": {
          "base_uri": "https://localhost:8080/"
        },
        "outputId": "44abc2f7-aa3c-41de-9761-1bc3fd323b2b"
      },
      "execution_count": 13,
      "outputs": [
        {
          "output_type": "stream",
          "name": "stdout",
          "text": [
            "b0: 34.5538408793831\n",
            "b1: -0.9500493537579907\n"
          ]
        }
      ]
    },
    {
      "cell_type": "markdown",
      "source": [
        "가설검증"
      ],
      "metadata": {
        "id": "cFNnimFGxaAu"
      }
    },
    {
      "cell_type": "code",
      "source": [
        "yhat = b0+b1*X['lstat']\n",
        "varience = np.sum((y-yhat)**2/(len(y)-2))\n",
        "\n",
        "se_b0 = np.sqrt(varience/np.sum((X['lstat']-X['lstat'].mean())**2))\n",
        "se_b1 = np.sqrt(varience*sum((X['lstat']-X['lstat'].mean())**2)/np.sum((X['lstat']-X['lstat'].mean())**4))\n",
        "\n",
        "print('se_b0:',se_b0)\n",
        "print('se_b1:',se_b1)"
      ],
      "metadata": {
        "colab": {
          "base_uri": "https://localhost:8080/"
        },
        "id": "_6mNmJR_xfLp",
        "outputId": "ff2ec3b3-d3a4-40d8-dea0-2d9566661a81"
      },
      "execution_count": 14,
      "outputs": [
        {
          "output_type": "stream",
          "name": "stdout",
          "text": [
            "se_b0: 0.03873341621263942\n",
            "se_b1: 0.467290711707607\n"
          ]
        }
      ]
    },
    {
      "cell_type": "markdown",
      "source": [
        "# **Visualisation**\n",
        "\n",
        "In [20] - In[22]를 참고하여 입력, 출력 데이터 (scatter plot, 붉은색 점)과 선형회귀선 (파란색 선)을 그릴 것."
      ],
      "metadata": {
        "id": "SEz6f8WAQ1ap"
      }
    },
    {
      "cell_type": "code",
      "source": [
        "xx=np.linspace(X['lstat'].min(),X['lstat'].max(),100)\n",
        "yy=b0+b1*xx\n",
        "plt.scatter(X['lstat'], y, color='red')\n",
        "plt.plot(xx, yy, color='blue')"
      ],
      "metadata": {
        "colab": {
          "base_uri": "https://localhost:8080/",
          "height": 447
        },
        "id": "V7JR-mrnyZR_",
        "outputId": "e5087692-de45-4dde-bff3-595eeeb3ba51"
      },
      "execution_count": 17,
      "outputs": [
        {
          "output_type": "execute_result",
          "data": {
            "text/plain": [
              "[<matplotlib.lines.Line2D at 0x7d74b5ba0790>]"
            ]
          },
          "metadata": {},
          "execution_count": 17
        },
        {
          "output_type": "display_data",
          "data": {
            "text/plain": [
              "<Figure size 640x480 with 1 Axes>"
            ],
            "image/png": "[encoded data removed]"
          },
          "metadata": {}
        }
      ]
    },
    {
      "cell_type": "code",
      "source": [
        "def abline (ax, b, m, *args, **kwargs) :\n",
        "    xlim = ax.get_xlim()\n",
        "    ylim = [m * xlim[0] + b, m* xlim[1] + b]\n",
        "    ax.plot(xlim,ylim)"
      ],
      "metadata": {
        "id": "H8h2tec8y5Om"
      },
      "execution_count": 24,
      "outputs": []
    },
    {
      "cell_type": "code",
      "source": [
        "ax = Boston.plot.scatter(x='lstat',y='medv', color='red')\n",
        "abline(ax,\n",
        "       results.params[0],\n",
        "       results.params[1],\n",
        "       color = 'blue'\n",
        "       'r--',\n",
        "       linewidth=3)"
      ],
      "metadata": {
        "colab": {
          "base_uri": "https://localhost:8080/",
          "height": 538
        },
        "id": "KxZ7x0OSzK23",
        "outputId": "18ec0522-e56c-453d-9480-62e4eee5096e"
      },
      "execution_count": 30,
      "outputs": [
        {
          "output_type": "stream",
          "name": "stderr",
          "text": [
            "<ipython-input-30-a57d7329141c>:3: FutureWarning: Series.__getitem__ treating keys as positions is deprecated. In a future version, integer keys will always be treated as labels (consistent with DataFrame behavior). To access a value by position, use `ser.iloc[pos]`\n",
            "  results.params[0],\n",
            "<ipython-input-30-a57d7329141c>:4: FutureWarning: Series.__getitem__ treating keys as positions is deprecated. In a future version, integer keys will always be treated as labels (consistent with DataFrame behavior). To access a value by position, use `ser.iloc[pos]`\n",
            "  results.params[1],\n"
          ]
        },
        {
          "output_type": "display_data",
          "data": {
            "text/plain": [
              "<Figure size 640x480 with 1 Axes>"
            ],
            "image/png": "[encoded data removed]"
          },
          "metadata": {}
        }
      ]
    }
  ]
}